{
 "cells": [
  {
   "cell_type": "code",
   "execution_count": 1,
   "id": "db43b347-e4d1-48b5-ae58-991df9325cb2",
   "metadata": {},
   "outputs": [],
   "source": [
    "train_data <- read.csv(\"C:/Users/swift/Desktop/train.csv\")"
   ]
  },
  {
   "cell_type": "code",
   "execution_count": 2,
   "id": "40661f8b-ae05-48ce-914a-e6adb6ea3e20",
   "metadata": {},
   "outputs": [],
   "source": [
    "treatment1 <- function(df_in){\n",
    "    df_in$price <- as.numeric(df_in$price)\n",
    "    df_in$age <- 2024 - df_in$year\n",
    "    df_in <- na.omit(df_in)\n",
    "    return(df_in)\n",
    "}"
   ]
  },
  {
   "cell_type": "code",
   "execution_count": 3,
   "id": "efa57552-4f74-4619-be88-2143df8fa36d",
   "metadata": {},
   "outputs": [],
   "source": [
    "treatment2 <- function(df_in){\n",
    "    outlier_price <- quantile(df_in$price, 0.95)\n",
    "    df_in <- df_in[df_in$price < outlier_price, ]\n",
    "    return(df_in)\n",
    "}"
   ]
  },
  {
   "cell_type": "code",
   "execution_count": 4,
   "id": "dab16a4a-27df-4846-a2e5-c698909e9033",
   "metadata": {},
   "outputs": [],
   "source": [
    "treatment3 <- function(df_in){\n",
    "    upper_threshold <- quantile(df_in$engine_size, 0.99)\n",
    "    df_in <- df_in[df_in$engine_size <= upper_threshold, ]\n",
    "    return(df_in)\n",
    "}"
   ]
  },
  {
   "cell_type": "code",
   "execution_count": 5,
   "id": "b619e19d-2891-49ea-b800-91e50651f8e7",
   "metadata": {},
   "outputs": [
    {
     "name": "stderr",
     "output_type": "stream",
     "text": [
      "Warning message in treatment1(train_data):\n",
      "\"NAs introduced by coercion\"\n"
     ]
    }
   ],
   "source": [
    "train_data <- treatment1(train_data)"
   ]
  },
  {
   "cell_type": "code",
   "execution_count": 6,
   "id": "defc2b7e-f64b-4299-8753-797d8a1fa60a",
   "metadata": {},
   "outputs": [],
   "source": [
    "train_data <- treatment2(train_data)"
   ]
  },
  {
   "cell_type": "code",
   "execution_count": 7,
   "id": "a0db5ab6-1f5e-4a33-a3ad-9bd882cecce4",
   "metadata": {},
   "outputs": [],
   "source": [
    "train_data <- treatment3(train_data)"
   ]
  },
  {
   "cell_type": "code",
   "execution_count": 8,
   "id": "eff13cd7-bbca-4e86-9ead-54f15abbc367",
   "metadata": {},
   "outputs": [
    {
     "name": "stdout",
     "output_type": "stream",
     "text": [
      "Start:  AIC=250660.4\n",
      "price ~ age * mileage + engine_size + max_mpg + automatic_transmission + \n",
      "    damaged + first_owner + personal_using + turbo + alloy_wheels + \n",
      "    adaptive_cruise_control + navigation_system + power_liftgate + \n",
      "    backup_camera + keyless_start + remote_start + sunroof.moonroof + \n",
      "    automatic_emergency_braking + stability_control + leather_seats + \n",
      "    memory_seat + third_row_seating + apple_car_play.android_auto + \n",
      "    bluetooth + usb_port + heated_seats + brand + fuel_type\n",
      "\n",
      "                              Df  Sum of Sq        RSS    AIC\n",
      "- sunroof.moonroof             1 2.2030e+07 6.6081e+11 250659\n",
      "- automatic_emergency_braking  1 7.5803e+07 6.6087e+11 250660\n",
      "<none>                                      6.6079e+11 250660\n",
      "- usb_port                     1 1.4752e+08 6.6094e+11 250662\n",
      "- first_owner                  1 1.8826e+08 6.6098e+11 250662\n",
      "- keyless_start                1 1.9509e+08 6.6098e+11 250663\n",
      "- heated_seats                 1 2.5711e+08 6.6105e+11 250664\n",
      "- bluetooth                    1 3.0741e+08 6.6110e+11 250665\n",
      "- memory_seat                  1 3.6856e+08 6.6116e+11 250666\n",
      "- power_liftgate               1 4.7689e+08 6.6127e+11 250669\n",
      "- personal_using               1 5.8772e+08 6.6138e+11 250671\n",
      "- leather_seats                1 9.6846e+08 6.6176e+11 250679\n",
      "- alloy_wheels                 1 1.1662e+09 6.6196e+11 250683\n",
      "- remote_start                 1 1.6181e+09 6.6241e+11 250693\n",
      "- apple_car_play.android_auto  1 1.9220e+09 6.6271e+11 250700\n",
      "- adaptive_cruise_control      1 1.9724e+09 6.6276e+11 250701\n",
      "- max_mpg                      1 2.2974e+09 6.6309e+11 250708\n",
      "- backup_camera                1 3.9258e+09 6.6472e+11 250742\n",
      "- damaged                      1 5.5307e+09 6.6632e+11 250777\n",
      "- stability_control            1 5.9236e+09 6.6671e+11 250785\n",
      "- third_row_seating            1 7.8173e+09 6.6861e+11 250825\n",
      "- automatic_transmission       1 1.0494e+10 6.7128e+11 250882\n",
      "- navigation_system            1 1.8541e+10 6.7933e+11 251051\n",
      "- fuel_type                    6 1.9822e+10 6.8061e+11 251068\n",
      "- age:mileage                  1 2.3978e+10 6.8477e+11 251164\n",
      "- turbo                        1 2.6588e+10 6.8738e+11 251218\n",
      "- engine_size                  1 1.6414e+11 8.2493e+11 253807\n",
      "- brand                       24 2.0601e+11 8.6680e+11 254463\n",
      "\n",
      "Step:  AIC=250658.9\n",
      "price ~ age + mileage + engine_size + max_mpg + automatic_transmission + \n",
      "    damaged + first_owner + personal_using + turbo + alloy_wheels + \n",
      "    adaptive_cruise_control + navigation_system + power_liftgate + \n",
      "    backup_camera + keyless_start + remote_start + automatic_emergency_braking + \n",
      "    stability_control + leather_seats + memory_seat + third_row_seating + \n",
      "    apple_car_play.android_auto + bluetooth + usb_port + heated_seats + \n",
      "    brand + fuel_type + age:mileage\n",
      "\n",
      "                              Df  Sum of Sq        RSS    AIC\n",
      "- automatic_emergency_braking  1 8.0391e+07 6.6089e+11 250659\n",
      "<none>                                      6.6081e+11 250659\n",
      "- usb_port                     1 1.4140e+08 6.6095e+11 250660\n",
      "+ sunroof.moonroof             1 2.2030e+07 6.6079e+11 250660\n",
      "- first_owner                  1 1.8785e+08 6.6100e+11 250661\n",
      "- keyless_start                1 1.9954e+08 6.6101e+11 250661\n",
      "- heated_seats                 1 2.3577e+08 6.6105e+11 250662\n",
      "- bluetooth                    1 3.0305e+08 6.6111e+11 250663\n",
      "- memory_seat                  1 3.5022e+08 6.6116e+11 250664\n",
      "- power_liftgate               1 4.6689e+08 6.6128e+11 250667\n",
      "- personal_using               1 5.8271e+08 6.6139e+11 250669\n",
      "- leather_seats                1 9.7705e+08 6.6179e+11 250678\n",
      "- alloy_wheels                 1 1.1659e+09 6.6198e+11 250682\n",
      "- remote_start                 1 1.6066e+09 6.6242e+11 250691\n",
      "- apple_car_play.android_auto  1 1.9043e+09 6.6272e+11 250698\n",
      "- adaptive_cruise_control      1 1.9607e+09 6.6277e+11 250699\n",
      "- max_mpg                      1 2.2963e+09 6.6311e+11 250706\n",
      "- backup_camera                1 3.9695e+09 6.6478e+11 250742\n",
      "- damaged                      1 5.5270e+09 6.6634e+11 250775\n",
      "- stability_control            1 5.9247e+09 6.6674e+11 250784\n",
      "- third_row_seating            1 7.8026e+09 6.6861e+11 250823\n",
      "- automatic_transmission       1 1.0493e+10 6.7130e+11 250880\n",
      "- navigation_system            1 1.8693e+10 6.7950e+11 251053\n",
      "- fuel_type                    6 1.9892e+10 6.8070e+11 251068\n",
      "- age:mileage                  1 2.3956e+10 6.8477e+11 251162\n",
      "- turbo                        1 2.6621e+10 6.8743e+11 251217\n",
      "- engine_size                  1 1.6453e+11 8.2534e+11 253812\n",
      "- brand                       24 2.0747e+11 8.6828e+11 254485\n",
      "\n",
      "Step:  AIC=250658.6\n",
      "price ~ age + mileage + engine_size + max_mpg + automatic_transmission + \n",
      "    damaged + first_owner + personal_using + turbo + alloy_wheels + \n",
      "    adaptive_cruise_control + navigation_system + power_liftgate + \n",
      "    backup_camera + keyless_start + remote_start + stability_control + \n",
      "    leather_seats + memory_seat + third_row_seating + apple_car_play.android_auto + \n",
      "    bluetooth + usb_port + heated_seats + brand + fuel_type + \n",
      "    age:mileage\n",
      "\n",
      "                              Df  Sum of Sq        RSS    AIC\n",
      "<none>                                      6.6089e+11 250659\n",
      "+ automatic_emergency_braking  1 8.0391e+07 6.6081e+11 250659\n",
      "+ sunroof.moonroof             1 2.6619e+07 6.6087e+11 250660\n",
      "- usb_port                     1 1.8102e+08 6.6107e+11 250661\n",
      "- first_owner                  1 1.8333e+08 6.6108e+11 250661\n",
      "- keyless_start                1 2.1429e+08 6.6111e+11 250661\n",
      "- heated_seats                 1 2.2240e+08 6.6111e+11 250661\n",
      "- bluetooth                    1 3.0136e+08 6.6119e+11 250663\n",
      "- memory_seat                  1 3.4220e+08 6.6123e+11 250664\n",
      "- power_liftgate               1 4.5409e+08 6.6135e+11 250666\n",
      "- personal_using               1 5.8234e+08 6.6147e+11 250669\n",
      "- leather_seats                1 9.3698e+08 6.6183e+11 250677\n",
      "- alloy_wheels                 1 1.1764e+09 6.6207e+11 250682\n",
      "- remote_start                 1 1.6436e+09 6.6254e+11 250692\n",
      "- apple_car_play.android_auto  1 1.8777e+09 6.6277e+11 250697\n",
      "- adaptive_cruise_control      1 1.8917e+09 6.6278e+11 250697\n",
      "- max_mpg                      1 2.2963e+09 6.6319e+11 250706\n",
      "- backup_camera                1 4.0477e+09 6.6494e+11 250743\n",
      "- damaged                      1 5.5184e+09 6.6641e+11 250775\n",
      "- stability_control            1 5.9630e+09 6.6685e+11 250784\n",
      "- third_row_seating            1 7.8641e+09 6.6876e+11 250824\n",
      "- automatic_transmission       1 1.0438e+10 6.7133e+11 250879\n",
      "- navigation_system            1 1.8649e+10 6.7954e+11 251052\n",
      "- fuel_type                    6 1.9992e+10 6.8088e+11 251070\n",
      "- age:mileage                  1 2.3887e+10 6.8478e+11 251160\n",
      "- turbo                        1 2.7682e+10 6.8857e+11 251239\n",
      "- engine_size                  1 1.6616e+11 8.2705e+11 253839\n",
      "- brand                       24 2.0793e+11 8.6882e+11 254492\n"
     ]
    },
    {
     "data": {
      "text/plain": [
       "\n",
       "Call:\n",
       "lm(formula = price ~ age + mileage + engine_size + max_mpg + \n",
       "    automatic_transmission + damaged + first_owner + personal_using + \n",
       "    turbo + alloy_wheels + adaptive_cruise_control + navigation_system + \n",
       "    power_liftgate + backup_camera + keyless_start + remote_start + \n",
       "    stability_control + leather_seats + memory_seat + third_row_seating + \n",
       "    apple_car_play.android_auto + bluetooth + usb_port + heated_seats + \n",
       "    brand + fuel_type + age:mileage, data = train_data)\n",
       "\n",
       "Residuals:\n",
       "   Min     1Q Median     3Q    Max \n",
       "-29764  -4196   -663   3233  51133 \n",
       "\n",
       "Coefficients:\n",
       "                              Estimate Std. Error t value Pr(>|t|)    \n",
       "(Intercept)                  4.269e+04  1.016e+03  42.029  < 2e-16 ***\n",
       "age                         -1.563e+03  2.995e+01 -52.175  < 2e-16 ***\n",
       "mileage                     -1.973e-01  3.575e-03 -55.194  < 2e-16 ***\n",
       "engine_size                  4.980e+03  8.354e+01  59.612  < 2e-16 ***\n",
       "max_mpg                     -7.822e+01  1.116e+01  -7.008 2.53e-12 ***\n",
       "automatic_transmission      -3.397e+03  2.273e+02 -14.941  < 2e-16 ***\n",
       "damaged                     -1.518e+03  1.397e+02 -10.864  < 2e-16 ***\n",
       "first_owner                  2.686e+02  1.356e+02   1.980 0.047714 *  \n",
       "personal_using               4.664e+02  1.322e+02   3.529 0.000418 ***\n",
       "turbo                        3.988e+03  1.639e+02  24.331  < 2e-16 ***\n",
       "alloy_wheels                -1.236e+03  2.464e+02  -5.016 5.35e-07 ***\n",
       "adaptive_cruise_control      1.068e+03  1.679e+02   6.360 2.07e-10 ***\n",
       "navigation_system            3.056e+03  1.530e+02  19.971  < 2e-16 ***\n",
       "power_liftgate               4.958e+02  1.591e+02   3.116 0.001835 ** \n",
       "backup_camera               -1.456e+03  1.565e+02  -9.304  < 2e-16 ***\n",
       "keyless_start               -3.072e+02  1.435e+02  -2.141 0.032310 *  \n",
       "remote_start                 9.913e+02  1.672e+02   5.929 3.12e-09 ***\n",
       "stability_control           -4.264e+03  3.776e+02 -11.293  < 2e-16 ***\n",
       "leather_seats               -8.133e+02  1.817e+02  -4.476 7.65e-06 ***\n",
       "memory_seat                  5.153e+02  1.905e+02   2.705 0.006833 ** \n",
       "third_row_seating            2.535e+03  1.955e+02  12.969  < 2e-16 ***\n",
       "apple_car_play.android_auto  9.623e+02  1.519e+02   6.337 2.41e-10 ***\n",
       "bluetooth                   -6.364e+02  2.507e+02  -2.539 0.011138 *  \n",
       "usb_port                    -3.285e+02  1.670e+02  -1.968 0.049138 *  \n",
       "heated_seats                 2.991e+02  1.371e+02   2.181 0.029207 *  \n",
       "brandAudi                    5.777e+03  4.092e+02  14.120  < 2e-16 ***\n",
       "brandBMW                     3.622e+03  4.162e+02   8.703  < 2e-16 ***\n",
       "brandCadillac               -9.347e+02  4.113e+02  -2.273 0.023052 *  \n",
       "brandChevrolet              -1.089e+03  4.666e+02  -2.333 0.019643 *  \n",
       "brandFIAT                   -4.040e+03  4.259e+02  -9.484  < 2e-16 ***\n",
       "brandFord                   -2.048e+02  4.341e+02  -0.472 0.637046    \n",
       "brandHonda                  -1.862e+03  4.024e+02  -4.628 3.73e-06 ***\n",
       "brandHyundai                -5.785e+03  4.308e+02 -13.428  < 2e-16 ***\n",
       "brandJaguar                  1.172e+03  4.146e+02   2.827 0.004702 ** \n",
       "brandJeep                   -9.196e+02  4.329e+02  -2.124 0.033673 *  \n",
       "brandKia                    -5.031e+03  4.305e+02 -11.685  < 2e-16 ***\n",
       "brandLand                    6.816e+03  4.725e+02  14.425  < 2e-16 ***\n",
       "brandLexus                   3.486e+03  4.288e+02   8.128 4.72e-16 ***\n",
       "brandMaserati                5.205e+03  4.034e+02  12.902  < 2e-16 ***\n",
       "brandMazda                  -5.114e+03  4.224e+02 -12.105  < 2e-16 ***\n",
       "brandMercedes-Benz           7.376e+03  4.155e+02  17.752  < 2e-16 ***\n",
       "brandMINI                   -1.956e+03  4.220e+02  -4.635 3.60e-06 ***\n",
       "brandMitsubishi             -4.508e+03  4.370e+02 -10.315  < 2e-16 ***\n",
       "brandNissan                 -6.728e+03  4.403e+02 -15.281  < 2e-16 ***\n",
       "brandPorsche                 1.646e+04  4.782e+02  34.427  < 2e-16 ***\n",
       "brandSuzuki                 -4.083e+03  8.815e+02  -4.632 3.65e-06 ***\n",
       "brandToyota                 -3.420e+02  4.564e+02  -0.749 0.453598    \n",
       "brandVolkswagen             -4.092e+03  4.134e+02  -9.898  < 2e-16 ***\n",
       "brandVolvo                   2.718e+03  4.043e+02   6.722 1.86e-11 ***\n",
       "fuel_typeE85 Flex Fuel      -6.654e+03  8.669e+02  -7.676 1.75e-14 ***\n",
       "fuel_typeElectric            1.849e+04  2.401e+03   7.703 1.42e-14 ***\n",
       "fuel_typeflex_fuel          -8.917e+03  6.889e+03  -1.294 0.195560    \n",
       "fuel_typeGasoline           -1.068e+03  6.672e+02  -1.600 0.109576    \n",
       "fuel_typeHybrid              3.919e+03  7.354e+02   5.329 1.00e-07 ***\n",
       "fuel_typeUnknown            -1.888e+03  1.796e+03  -1.051 0.293337    \n",
       "age:mileage                  7.155e-03  3.165e-04  22.602  < 2e-16 ***\n",
       "---\n",
       "Signif. codes:  0 '***' 0.001 '**' 0.01 '*' 0.05 '.' 0.1 ' ' 1\n",
       "\n",
       "Residual standard error: 6838 on 14134 degrees of freedom\n",
       "Multiple R-squared:  0.7881,\tAdjusted R-squared:  0.7873 \n",
       "F-statistic: 955.7 on 55 and 14134 DF,  p-value: < 2.2e-16\n"
      ]
     },
     "metadata": {},
     "output_type": "display_data"
    }
   ],
   "source": [
    "formula_step <- formula(\"price ~ age * mileage + engine_size + max_mpg + automatic_transmission + damaged + first_owner + \n",
    "                        personal_using + turbo + alloy_wheels + adaptive_cruise_control + navigation_system + \n",
    "                        power_liftgate + backup_camera + keyless_start + remote_start + sunroof.moonroof + \n",
    "                        automatic_emergency_braking + stability_control + leather_seats + memory_seat + \n",
    "                        third_row_seating + apple_car_play.android_auto + bluetooth + usb_port + heated_seats + \n",
    "                        brand + fuel_type\")\n",
    "\n",
    "step_model <- step(lm(formula_step, data = train_data), direction = \"both\")\n",
    "\n",
    "summary(step_model)"
   ]
  },
  {
   "cell_type": "code",
   "execution_count": 23,
   "id": "997ba4ba-6d99-43b9-8d73-848cb10f4205",
   "metadata": {},
   "outputs": [],
   "source": [
    "test_data <- read.csv(\"C:/Users/swift/Desktop/test.csv\")"
   ]
  },
  {
   "cell_type": "code",
   "execution_count": 24,
   "id": "ff822fc4-977e-4d80-98d1-065a6dc976d8",
   "metadata": {},
   "outputs": [
    {
     "name": "stderr",
     "output_type": "stream",
     "text": [
      "Warning message in treatment1(test_data):\n",
      "\"NAs introduced by coercion\"\n"
     ]
    }
   ],
   "source": [
    "test_data <- treatment1(test_data)"
   ]
  },
  {
   "cell_type": "code",
   "execution_count": 25,
   "id": "96db1be3-fae6-4dbc-b035-097ab17b339d",
   "metadata": {},
   "outputs": [],
   "source": [
    "test_data <- treatment2(test_data)"
   ]
  },
  {
   "cell_type": "code",
   "execution_count": 26,
   "id": "c9d4cf78-473a-43ed-9680-287509e21fde",
   "metadata": {},
   "outputs": [],
   "source": [
    "test_data <- treatment3(test_data)"
   ]
  },
  {
   "cell_type": "code",
   "execution_count": 27,
   "id": "ca8bb793-727a-45ac-8194-458cc560fe25",
   "metadata": {},
   "outputs": [],
   "source": [
    "pred_eval <- function(model, new_data){\n",
    "    \n",
    "    predictions <- predict(model, newdata = new_data)\n",
    "\n",
    "    actual_values <- new_data$price\n",
    "\n",
    "    RMSE <- sqrt(mean((actual_values - predictions)^2))\n",
    "    MAE <- mean(abs(actual_values - predictions))\n",
    "    R_squared <- cor(actual_values, predictions)^2\n",
    "\n",
    "    cat(\"RMSE:\", RMSE, '\\n')\n",
    "    cat(\"MAE:\", MAE, '\\n')\n",
    "    cat(\"R-squared:\", R_squared, '\\n')\n",
    "\n",
    "}"
   ]
  },
  {
   "cell_type": "code",
   "execution_count": 28,
   "id": "6d7591ed-41b5-491e-9110-db7790b7019f",
   "metadata": {},
   "outputs": [
    {
     "name": "stdout",
     "output_type": "stream",
     "text": [
      "RMSE: 6598.199 \n",
      "MAE: 4885.477 \n",
      "R-squared: 0.7869633 \n"
     ]
    }
   ],
   "source": [
    "pred_eval(step_model, test_data)"
   ]
  },
  {
   "cell_type": "code",
   "execution_count": 29,
   "id": "288171b4-edda-441f-8979-e3aa9df42b55",
   "metadata": {},
   "outputs": [],
   "source": [
    "# install.packages(c(\"caret\", \"yardstick\"))\n",
    "# install.packages(\"glmnet\")\n",
    "# install.packages(\"kernlab\")\n",
    "library(caret)\n",
    "# library(yardstick)\n",
    "library(glmnet)\n",
    "# library(kernlab)"
   ]
  },
  {
   "cell_type": "code",
   "execution_count": 21,
   "id": "5430de3d-5e03-40c0-aaea-54e728883dd6",
   "metadata": {},
   "outputs": [],
   "source": [
    "# Train Ridge Regression model\n",
    "ridge_model <- train(formula_step, data = train_data, method = \"glmnet\", trControl = trainControl(method = \"cv\"))\n",
    "\n",
    "# Make predictions on test data\n",
    "ridge_predictions <- predict(ridge_model, newdata = test_data)\n",
    "\n",
    "# Evaluate performance using metrics\n",
    "# ridge_performance <- yardstick::metrics(data.frame(.pred = ridge_predictions, .actual = test_data$target_variable), metric = \"rmse\")\n",
    "# print(ridge_performance)\n"
   ]
  },
  {
   "cell_type": "code",
   "execution_count": 22,
   "id": "37bc1158-290c-43d4-ae04-431f1f56a726",
   "metadata": {},
   "outputs": [
    {
     "name": "stdout",
     "output_type": "stream",
     "text": [
      "RMSE: 6595.179 \n",
      "MAE: 4880.024 \n",
      "R-squared: 0.7870363 \n"
     ]
    }
   ],
   "source": [
    "pred_eval(ridge_model, test_data)"
   ]
  },
  {
   "cell_type": "code",
   "execution_count": null,
   "id": "d3595add-d353-46a7-89df-12b16f7d3db3",
   "metadata": {},
   "outputs": [],
   "source": [
    "# Train SVR model\n",
    "svm_model <- train(formula_step, data = train_data, method = \"svmLinear\", trControl = trainControl(method = \"cv\"))\n",
    "\n",
    "# Make predictions on test data\n",
    "svm_predictions <- predict(svm_model, newdata = test_data)\n"
   ]
  },
  {
   "cell_type": "code",
   "execution_count": null,
   "id": "41bcc565-e360-4af1-8572-085f5dc601f7",
   "metadata": {},
   "outputs": [],
   "source": []
  }
 ],
 "metadata": {
  "kernelspec": {
   "display_name": "R",
   "language": "R",
   "name": "ir"
  },
  "language_info": {
   "codemirror_mode": "r",
   "file_extension": ".r",
   "mimetype": "text/x-r-source",
   "name": "R",
   "pygments_lexer": "r",
   "version": "4.4.2"
  }
 },
 "nbformat": 4,
 "nbformat_minor": 5
}
